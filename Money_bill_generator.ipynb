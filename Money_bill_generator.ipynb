{
  "cells": [
    {
      "cell_type": "markdown",
      "metadata": {
        "id": "view-in-github",
        "colab_type": "text"
      },
      "source": [
        "<a href=\"https://colab.research.google.com/github/Swathi2201/ShapeAI_Bootcamp_BWD/blob/main/Money_bill_generator.ipynb\" target=\"_parent\"><img src=\"https://colab.research.google.com/assets/colab-badge.svg\" alt=\"Open In Colab\"/></a>"
      ]
    },
    {
      "cell_type": "code",
      "execution_count": null,
      "id": "a0d1af41",
      "metadata": {
        "id": "a0d1af41"
      },
      "outputs": [],
      "source": [
        "def generate_monthly_bill(item_list, target_month):\n",
        "    #Target Year and Month\n",
        "    year_input, mon_input = target_month.split('-')\n",
        "    year = int(year_input)\n",
        "    month = int(mon_input)\n",
        "\n",
        "    #Days in the target month\n",
        "    if month in (1,3,5,7,8,10,12):\n",
        "        days_in_month = 31\n",
        "    elif month in (4,6,9,11):\n",
        "        days_in_month = 30\n",
        "    else:\n",
        "        if (year % 4 == 0 and (year % 100 != 0 or year % 400 == 0)):\n",
        "            days_in_month = 29\n",
        "        else:\n",
        "            days_in_month = 28\n",
        "\n",
        "    month_start = (year, month, 1)\n",
        "    month_end   = (year, month, days_in_month)\n",
        "\n",
        "    segments = []\n",
        "    for item in item_list:\n",
        "        #(YYYY,MM,DD) format\n",
        "        y1, m1, d1 = item['start_date'].split('-')\n",
        "        y2, m2, d2 = item['stop_date'].split('-')\n",
        "        start = (int(y1), int(m1), int(d1))\n",
        "        stop  = (int(y2), int(m2), int(d2))\n",
        "\n",
        "        # Finding Overlap with the target month\n",
        "        active_start = start if start > month_start else month_start\n",
        "        active_end   = stop  if stop  < month_end   else month_end\n",
        "        if active_start > active_end:\n",
        "            continue\n",
        "\n",
        "        qty  = int(item['qty'])\n",
        "        rate = float(item['rate'])\n",
        "\n",
        "        # Days active in the month\n",
        "        days_active = active_end[2] - active_start[2] + 1\n",
        "\n",
        "        # Total Amount\n",
        "        amount = rate * qty * (days_active / days_in_month)\n",
        "\n",
        "        # Billing period\n",
        "        billing_period = (\n",
        "            f\"{active_start[0]:04d}-{active_start[1]:02d}-{active_start[2]:02d}\"\n",
        "            f\" to \"\n",
        "            f\"{active_end[0]:04d}-{active_end[1]:02d}-{active_end[2]:02d}\"\n",
        "        )\n",
        "\n",
        "        segments.append({\n",
        "            'item_code':      item['item_code'],\n",
        "            'rate':           rate,\n",
        "            'qty':            qty,\n",
        "            'amount':         amount,\n",
        "            'billing_period': billing_period\n",
        "        })\n",
        "\n",
        "    grouped = {}\n",
        "    for item in segments:\n",
        "        key = (item['item_code'], item['rate'], item['billing_period'])\n",
        "        if key not in grouped:\n",
        "            grouped[key] = {'qty': 0, 'amount': 0.0}\n",
        "        grouped[key]['qty']+= item['qty']\n",
        "        grouped[key]['amount']+= item['amount']\n",
        "    line_items = []\n",
        "    total_revenue = 0.0\n",
        "    for (item_code, rate, period), vals in grouped.items():\n",
        "        amt = round(vals['amount'], 2)\n",
        "        line_items.append({\n",
        "            'item_code':      item_code,\n",
        "            'rate':           rate,\n",
        "            'qty':            vals['qty'],\n",
        "            'amount':         amt,\n",
        "            'billing_period': period\n",
        "        })\n",
        "        total_revenue += amt\n",
        "    line_items.sort(key=lambda x: (x['item_code'], x['rate'], x['billing_period']))\n",
        "\n",
        "    return {\n",
        "        'line_items':    line_items,\n",
        "        'total_revenue': round(total_revenue, 2)\n",
        "    }\n"
      ]
    }
  ],
  "metadata": {
    "kernelspec": {
      "display_name": "Python 3",
      "language": "python",
      "name": "python3"
    },
    "language_info": {
      "codemirror_mode": {
        "name": "ipython",
        "version": 3
      },
      "file_extension": ".py",
      "mimetype": "text/x-python",
      "name": "python",
      "nbconvert_exporter": "python",
      "pygments_lexer": "ipython3",
      "version": "3.12.4"
    },
    "colab": {
      "provenance": [],
      "include_colab_link": true
    }
  },
  "nbformat": 4,
  "nbformat_minor": 5
}